{
  "nbformat":4,
  "nbformat_minor":0,
  "metadata":{
    "colab":{ "name":"舞姬/雪國/荒野より-Benchmarks of UniDic2UD" },
    "kernelspec":{ "name":"python3" }
  },
  "cells":[
    {
      "cell_type":"markdown",
      "metadata":{ "colab_type":"text" },
      "source":[
        "# [舞姬/雪國/荒野より-Benchmarks](https://github.com/KoichiYasuoka/UniDic2UD/tree/master/benchmark) of [UniDic2UD](https://github.com/KoichiYasuoka/UniDic2UD)"
      ]
    },
    {
      "cell_type":"code",
      "metadata":{ "colab_type":"code" },
      "source":[
        "!pip install unidic2ud 'spacy>=2.2.2'\n",
        "!curl -L https://raw.githubusercontent.com/KoichiYasuoka/UniDic2UD/master/benchmark/maihime-benchmark.tar.gz | tar xzf -\n",
        "!sh benchmark.sh unidic2ud.spacy 'load(\"kindai\")' maihime.conllu\n",
        "!sh benchmark.sh unidic2ud.spacy 'load(\"qkana\")' maihime.conllu\n",
        "!sh benchmark.sh unidic2ud.spacy 'load(\"kinsei\")' maihime.conllu\n",
        "!curl -L https://raw.githubusercontent.com/KoichiYasuoka/UniDic2UD/master/benchmark/yukiguni-benchmark.tar.gz | tar xzf -\n",
        "!sh benchmark.sh unidic2ud.spacy 'load(\"qkana\")' yukiguni.conllu\n",
        "!sh benchmark.sh unidic2ud.spacy 'load(\"kinsei\")' yukiguni.conllu\n",
        "!sh benchmark.sh unidic2ud.spacy 'load(\"kindai\")' yukiguni.conllu\n",
        "!curl -L https://raw.githubusercontent.com/KoichiYasuoka/UniDic2UD/master/benchmark/koyayori-benchmark.tar.gz | tar xzf -\n",
        "!sh benchmark.sh unidic2ud.spacy 'load(\"qkana\")' koyayori.conllu\n",
        "!sh benchmark.sh unidic2ud.spacy 'load(\"kindai\")' koyayori.conllu\n",
        "!sh benchmark.sh unidic2ud.spacy 'load(\"kinsei\")' koyayori.conllu"
      ],
      "outputs":[
        {
          "output_type":"stream",
          "text":[
            "### unidic2ud.spacy.load(\"kindai\") maihime.conllu\n",
            "LAS F1 Score: 81.13\n",
            "MLAS Score: 70.37\n",
            "BLEX Score: 77.78\n",
            "### unidic2ud.spacy.load(\"qkana\") maihime.conllu\n",
            "LAS F1 Score: 77.36\n",
            "MLAS Score: 66.67\n",
            "BLEX Score: 74.07\n",
            "### unidic2ud.spacy.load(\"kinsei\") maihime.conllu\n",
            "LAS F1 Score: 72.22\n",
            "MLAS Score: 60.71\n",
            "BLEX Score: 64.29\n",
            "\n",
            "### unidic2ud.spacy.load(\"qkana\") yukiguni.conllu\n",
            "LAS F1 Score: 87.50\n",
            "MLAS Score: 81.63\n",
            "BLEX Score: 77.55\n",
            "### unidic2ud.spacy.load(\"kinsei\") yukiguni.conllu\n",
            "LAS F1 Score: 87.50\n",
            "MLAS Score: 81.63\n",
            "BLEX Score: 73.47\n",
            "### unidic2ud.spacy.load(\"kindai\") yukiguni.conllu\n",
            "LAS F1 Score: 83.19\n",
            "MLAS Score: 77.55\n",
            "BLEX Score: 73.47\n",
            "\n",
            "### unidic2ud.spacy.load(\"qkana\") koyayori.conllu\n",
            "LAS F1 Score: 72.25\n",
            "MLAS Score: 62.34\n",
            "BLEX Score: 57.14\n",
            "### unidic2ud.spacy.load(\"kindai\") koyayori.conllu\n",
            "LAS F1 Score: 75.39\n",
            "MLAS Score: 61.54\n",
            "BLEX Score: 53.85\n",
            "### unidic2ud.spacy.load(\"kinsei\") koyayori.conllu\n",
            "LAS F1 Score: 72.92\n",
            "MLAS Score: 58.97\n",
            "BLEX Score: 51.28\n",
            "\n"
          ]
        }
      ]
    }
  ]
}
