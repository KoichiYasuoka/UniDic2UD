{
  "nbformat":4,
  "nbformat_minor":0,
  "metadata":{
    "colab":{ "name":"舞姬-Benchmark of UniDic2UD" },
    "kernelspec":{ "name":"python3" }
  },
  "cells":[
    {
      "cell_type":"markdown",
      "metadata":{ "colab_type":"text" },
      "source":[
        "# 舞姬-Benchmark of [UniDic2UD](https://github.com/KoichiYasuoka/UniDic2UD)"
      ]
    },
    {
      "cell_type":"code",
      "metadata":{ "colab_type":"code" },
      "source":[
        "!pip install unidic2ud 'spacy>=2.2.2'\n",
        "!test -f maihime-benchmark.tar.gz || curl -LO https://raw.githubusercontent.com/KoichiYasuoka/UniDic2UD/master/benchmark/maihime-benchmark.tar.gz\n",
        "!test -f benchmark.sh || tar xzf maihime-benchmark.tar.gz\n",
        "!sh benchmark.sh unidic2ud.spacy 'load(\"kindai\")'\n",
        "!sh benchmark.sh unidic2ud.spacy 'load(\"qkana\")'\n",
        "!sh benchmark.sh unidic2ud.spacy 'load(\"kinsei\")'"
      ],
      "outputs":[
        {
          "output_type":"stream",
          "text":[
            "### unidic2ud.spacy.load(\"kindai\") maihime.conllu\n",
            "LAS F1 Score: 81.13\n",
            "MLAS Score: 70.37\n",
            "BLEX Score: 77.78\n",
            "### unidic2ud.spacy.load(\"qkana\") maihime.conllu\n",
            "LAS F1 Score: 77.36\n",
            "MLAS Score: 66.67\n",
            "BLEX Score: 74.07\n",
            "### unidic2ud.spacy.load(\"kinsei\") maihime.conllu\n",
            "LAS F1 Score: 72.22\n",
            "MLAS Score: 60.71\n",
            "BLEX Score: 64.29\n",
            "\n"
          ]
        }
      ]
    }
  ]
}
