{
  "nbformat":4,
  "nbformat_minor":0,
  "metadata":{
    "colab":{ "name":"udcabocha on Google Colaboratory" },
    "kernelspec":{ "name":"python3" }
  },
  "cells":[
    {
      "cell_type":"markdown",
      "metadata":{ "colab_type":"text" },
      "source":[
        "# [udcabocha](https://github.com/KoichiYasuoka/UniDic2UD#cabocha-emulator-usage) on Google Colaboratory\n"
      ]
    },
    {
      "cell_type":"code",
      "metadata":{ "colab_type":"code" },
      "source":[
        "!pip install unidic2ud\n",
        "import unidic2ud.cabocha as CaboCha\n",
        "qkana=CaboCha.Parser(\"qkana\")\n",
        "s=qkana.parse(\"其國を治めんと欲する者は先づ其家を齊ふ\")\n",
        "print(s.toString(CaboCha.FORMAT_TREE_LATTICE))\n",
        "print(s.toString(CaboCha.FORMAT_XML))\n",
        "import deplacy\n",
        "deplacy.serve(s,port=None)\n",
        "deplacy.render(s)\n",
        "import graphviz\n",
        "graphviz.Source(deplacy.dot(s))"
      ]
    }
  ]
}
